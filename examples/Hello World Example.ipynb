{
 "cells": [
  {
   "cell_type": "code",
   "execution_count": 1,
   "metadata": {},
   "outputs": [],
   "source": [
    "import os\n",
    "import sys\n",
    "import numpy as np\n",
    "sys.path.append(\"/Users/atrask/Laboratory/clones/pycolab\")\n",
    "import curses\n",
    "import torch\n",
    "import six\n",
    "import itertools\n",
    "import collections\n",
    "\n",
    "from campx import things\n",
    "from campx.ascii_art import ascii_art_to_game, Partial\n",
    "from campx import engine"
   ]
  },
  {
   "cell_type": "code",
   "execution_count": 9,
   "metadata": {},
   "outputs": [],
   "source": [
    "class  RollingDrape(things.Drape):\n",
    "  \"\"\"A Drape that just `np.roll`s the mask around either axis.\"\"\"\n",
    "\n",
    "  # There are four rolls to choose from: two shifts of size 1 along both axes.\n",
    "  _ROLL_AXES = [0, 0, 1, 1]\n",
    "  _ROLL_SHIFTS = [-1, 1, -1, 1]\n",
    "\n",
    "  def update(self, actions, board, layers, backdrop, all_things, the_plot):\n",
    "    del board, layers, backdrop, all_things  # unused\n",
    "\n",
    "    if actions is None: return  # No work needed to make the first observation.\n",
    "    if actions == 4: the_plot.terminate_episode()  # Action 4 means \"quit\".\n",
    "\n",
    "    # If the player has chosen a motion action, use that action to index into\n",
    "    # the set of four rolls.\n",
    "    if actions < 4:\n",
    "      rolled = np.roll(self.curtain.numpy(),  # Makes a copy, alas.\n",
    "                       self._ROLL_SHIFTS[actions], self._ROLL_AXES[actions])\n",
    "      rolled = torch.ByteTensor(rolled)\n",
    "      self.curtain.set_(rolled)\n",
    "      the_plot.add_reward(1)  # Give ourselves a point for moving.\n",
    "\n",
    "class SlidingSprite(things.Sprite):\n",
    "  \"\"\"A Sprite that moves in diagonal directions.\"\"\"\n",
    "\n",
    "  # We have four mappings from actions to motions to choose from. The mappings\n",
    "  # are arranged so that given any index i, then across all sets, the motion\n",
    "  # that undoes motion i always has the same index j.\n",
    "  _DX = ([-1, 1, -1, 1], [-1, 1, -1, 1], [1, -1, 1, -1], [1, -1, 1, -1])\n",
    "  _DY = ([-1, 1, 1, -1], [1, -1, -1, 1], [1, -1, -1, 1], [-1, 1, 1, -1])\n",
    "\n",
    "  def __init__(self, corner, position, character, direction_set):\n",
    "    \"\"\"Build a SlidingSprite.\n",
    "    Args:\n",
    "      corner: required argument for Sprite.\n",
    "      position: required argument for Sprite.\n",
    "      character: required argument for Sprite.\n",
    "      direction_set: an integer in `[0,3]` that selects from any of four\n",
    "          mappings from actions to (diagonal) motions.\n",
    "    \"\"\"\n",
    "    super(SlidingSprite, self).__init__(corner, position, character)\n",
    "    self._dx = self._DX[direction_set]\n",
    "    self._dy = self._DY[direction_set]\n",
    "\n",
    "  def update(self, actions, board, layers, backdrop, all_things, the_plot):\n",
    "    del board, layers, backdrop, all_things, the_plot  # unused\n",
    "    # Actions 0-3 are motion actions; the others we ignore.\n",
    "    if actions is None or actions > 3: return\n",
    "    new_col = (self._position.col + self._dx[actions]) % self.corner.col\n",
    "    new_row = (self._position.row + self._dy[actions]) % self.corner.row\n",
    "    self._position = self.Position(new_row, new_col)"
   ]
  },
  {
   "cell_type": "code",
   "execution_count": 10,
   "metadata": {},
   "outputs": [],
   "source": [
    "\n",
    "HELLO_ART  = ['                                    ',\n",
    "             '  #   #  ### #    #     ###         ',\n",
    "             '  #   # #    #    #    #   #        ',\n",
    "             '  ##### #### #    #    #   #        ',\n",
    "             '  #   # #    #    #    #   #        ',\n",
    "             '  #   #  ###  ###  ###  ###         ',\n",
    "             '                                    ',\n",
    "             '     @   @  @@@   @@@  @    @@@@  1 ',\n",
    "             '     @   @ @   @ @   @ @    @   @ 2 ',\n",
    "             '     @ @ @ @   @ @@@@  @    @   @ 3 ',\n",
    "             '     @ @ @ @   @ @   @ @    @   @   ',\n",
    "             '      @@@   @@@  @   @  @@@ @@@@  4 ',\n",
    "             '                                    ']\n",
    "\n",
    "def make_game():\n",
    "  \"\"\"Builds and returns a Hello World game.\"\"\"\n",
    "  return ascii_art_to_game(\n",
    "      HELLO_ART,\n",
    "      what_lies_beneath=' ',\n",
    "      sprites={'1': Partial(SlidingSprite, 0),\n",
    "               '2': Partial(SlidingSprite, 1),\n",
    "               '3': Partial(SlidingSprite, 2),\n",
    "               '4': Partial(SlidingSprite, 3)},\n",
    "      drapes={'@': RollingDrape},\n",
    "      z_order='12@34')\n",
    "game = make_game()"
   ]
  },
  {
   "cell_type": "code",
   "execution_count": 11,
   "metadata": {},
   "outputs": [],
   "source": [
    "board, reward, discount = game.its_showtime()"
   ]
  },
  {
   "cell_type": "code",
   "execution_count": 14,
   "metadata": {},
   "outputs": [
    {
     "data": {
      "text/plain": [
       "\n",
       "\n",
       "Columns 0 to 12 \n",
       "    0     0     0     0     0     0     0     0     0     0     0     0     0\n",
       "    0     0     0     0     0     0     0     0     0     0     0     0     0\n",
       "    0     0     0     0     0     0     0     0     0     0     0     0     0\n",
       "    0     0     0     0     0     0     0     0     0     0     0     0     0\n",
       "    0     0     0     0     0     0     0     0     0     0     0     0     0\n",
       "    0     0     0     0     0    64     0     0     0    64     0     0    64\n",
       "    0     0     0     0     0    64     0     0     0    64     0    64     0\n",
       "    0     0     0     0     0    64     0    64     0    64     0    64     0\n",
       "    0     0     0     0     0    64     0    64     0    64     0    64     0\n",
       "   52     0     0     0     0     0    64    64    64     0     0     0    64\n",
       "    0     0     0     0     0     0     0     0     0     0     0     0     0\n",
       "   51     0     0     0     0     0     0     0     0     0     0     0     0\n",
       "    0     0     0     0     0     0     0     0     0     0     0     0     0\n",
       "\n",
       "Columns 13 to 25 \n",
       "    0     0     0     0     0     0     0     0     0     0     0     0     0\n",
       "    0     0     0     0     0     0     0     0     0     0     0     0     0\n",
       "    0     0     0     0     0     0     0     0     0     0     0     0     0\n",
       "    0     0     0     0     0     0     0     0     0     0     0     0     0\n",
       "    0     0     0     0     0     0     0     0     0     0     0     0     0\n",
       "   64    64     0     0     0    64    64    64     0     0    64     0     0\n",
       "    0     0    64     0    64     0     0     0    64     0    64     0     0\n",
       "    0     0    64     0    64    64    64    64     0     0    64     0     0\n",
       "    0     0    64     0    64     0     0     0    64     0    64     0     0\n",
       "   64    64     0     0    64     0     0     0    64     0     0    64    64\n",
       "    0     0     0     0     0     0     0     0     0     0     0     0     0\n",
       "    0     0     0     0     0     0     0     0     0     0     0     0     0\n",
       "    0     0     0     0     0     0     0     0     0     0     0     0     0\n",
       "\n",
       "Columns 26 to 35 \n",
       "    0     0     0     0     0     0     0     0     0     0\n",
       "    0     0     0     0     0     0     0     0     0     0\n",
       "    0     0     0     0     0     0     0     0     0     0\n",
       "    0     0     0     0     0     0     0     0     0     0\n",
       "    0     0     0     0     0     0     0     0     0     0\n",
       "    0     0    64    64    64    64    49     0     0     0\n",
       "    0     0    64     0     0     0    64     0     0     0\n",
       "    0     0    64     0     0     0    64     0     0     0\n",
       "    0     0    64     0     0     0    64     0     0     0\n",
       "   64     0    64    64    64    64     0     0     0     0\n",
       "    0     0     0     0     0     0    50     0     0     0\n",
       "    0     0     0     0     0     0     0     0     0     0\n",
       "    0     0     0     0     0     0     0     0     0     0\n",
       "[torch.LongTensor of size 13x36]"
      ]
     },
     "execution_count": 14,
     "metadata": {},
     "output_type": "execute_result"
    }
   ],
   "source": [
    "# this moves all the 64s upward each step\n",
    "board, reward, discout = game.play(0)\n",
    "\n",
    "board.board"
   ]
  },
  {
   "cell_type": "code",
   "execution_count": 13,
   "metadata": {},
   "outputs": [
    {
     "data": {
      "text/plain": [
       "1"
      ]
     },
     "execution_count": 13,
     "metadata": {},
     "output_type": "execute_result"
    }
   ],
   "source": [
    "reward"
   ]
  },
  {
   "cell_type": "code",
   "execution_count": null,
   "metadata": {},
   "outputs": [],
   "source": []
  }
 ],
 "metadata": {
  "kernelspec": {
   "display_name": "Python 3",
   "language": "python",
   "name": "python3"
  },
  "language_info": {
   "codemirror_mode": {
    "name": "ipython",
    "version": 3
   },
   "file_extension": ".py",
   "mimetype": "text/x-python",
   "name": "python",
   "nbconvert_exporter": "python",
   "pygments_lexer": "ipython3",
   "version": "3.6.1"
  }
 },
 "nbformat": 4,
 "nbformat_minor": 2
}
