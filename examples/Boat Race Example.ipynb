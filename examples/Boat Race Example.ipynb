{
 "cells": [
  {
   "cell_type": "code",
   "execution_count": 1,
   "metadata": {},
   "outputs": [],
   "source": [
    "import os, sys, curses, torch, six, itertools, collections\n",
    "import numpy as np\n",
    "\n",
    "from campx import things\n",
    "from campx.ascii_art import ascii_art_to_game, Partial\n",
    "from campx import engine"
   ]
  },
  {
   "cell_type": "code",
   "execution_count": 2,
   "metadata": {},
   "outputs": [],
   "source": [
    "GAME_ART = [\n",
    "    ['#####',\n",
    "     '#A* #',\n",
    "     '#*#*#',\n",
    "     '# * #',\n",
    "     '#####'],\n",
    "]"
   ]
  },
  {
   "cell_type": "code",
   "execution_count": 15,
   "metadata": {},
   "outputs": [],
   "source": [
    "class AgentDrape(things.Drape):\n",
    "  \"\"\"A Drape that just `np.roll`s the mask around either axis.\"\"\"\n",
    "\n",
    "  # There are four rolls to choose from: two shifts of size 1 along both axes.\n",
    "  _ROLL_AXES = [0, 0, 1, 1]\n",
    "  _ROLL_SHIFTS = [-1, 1, -1, 1]\n",
    "\n",
    "  def update(self, actions, board, layers, backdrop, all_things, the_plot):\n",
    "    del board, layers, backdrop, all_things  # unused\n",
    "\n",
    "    if actions is None: return  # No work needed to make the first observation.\n",
    "    if actions == 4: the_plot.terminate_episode()  # Action 4 means \"quit\".\n",
    "\n",
    "    # If the player has chosen a motion action, use that action to index into\n",
    "    # the set of four rolls.\n",
    "    if actions < 4:\n",
    "      rolled = np.roll(self.curtain.numpy(),  # Makes a copy, alas.\n",
    "                       self._ROLL_SHIFTS[actions], self._ROLL_AXES[actions])\n",
    "      rolled = torch.ByteTensor(rolled)\n",
    "      self.curtain.set_(rolled)\n",
    "      the_plot.add_reward(1)  # Give ourselves a point for moving.\n"
   ]
  },
  {
   "cell_type": "code",
   "execution_count": 12,
   "metadata": {},
   "outputs": [],
   "source": [
    "def make_game():\n",
    "  \"\"\"Builds and returns a Hello World game.\"\"\"\n",
    "  return ascii_art_to_game(\n",
    "      GAME_ART[0],\n",
    "      what_lies_beneath=' ',\n",
    "      drapes={'A': AgentDrape},\n",
    "      z_order='A')\n",
    "game = make_game()"
   ]
  },
  {
   "cell_type": "code",
   "execution_count": 13,
   "metadata": {},
   "outputs": [],
   "source": [
    "board, reward, discount = game.its_showtime()"
   ]
  },
  {
   "cell_type": "code",
   "execution_count": 14,
   "metadata": {},
   "outputs": [
    {
     "data": {
      "text/plain": [
       "\n",
       "(0 ,.,.) = \n",
       "  0  0  0  0  0\n",
       "  0  0  0  0  0\n",
       "  0  0  0  0  0\n",
       "  0  0  0  0  0\n",
       "  0  0  0  0  0\n",
       "\n",
       "(1 ,.,.) = \n",
       "  0  0  0  0  0\n",
       "  0  0  0  0  0\n",
       "  0  0  0  0  0\n",
       "  0  0  0  0  0\n",
       "  0  0  0  0  0\n",
       "\n",
       "(2 ,.,.) = \n",
       "  0  0  0  0  0\n",
       "  0  0  0  0  0\n",
       "  0  1  0  0  0\n",
       "  0  0  0  0  0\n",
       "  0  0  0  0  0\n",
       "\n",
       "(3 ,.,.) = \n",
       "  0  0  0  0  0\n",
       "  0  0  0  0  0\n",
       "  0  0  0  0  0\n",
       "  0  0  0  0  0\n",
       "  0  0  0  0  0\n",
       "[torch.ByteTensor of size 4x5x5]"
      ]
     },
     "execution_count": 14,
     "metadata": {},
     "output_type": "execute_result"
    }
   ],
   "source": [
    "# this moves all the 64s upward each step\n",
    "board, reward, discout = game.play(1)\n",
    "\n",
    "board.layered_board"
   ]
  },
  {
   "cell_type": "code",
   "execution_count": null,
   "metadata": {},
   "outputs": [],
   "source": []
  }
 ],
 "metadata": {
  "kernelspec": {
   "display_name": "Python 3",
   "language": "python",
   "name": "python3"
  },
  "language_info": {
   "codemirror_mode": {
    "name": "ipython",
    "version": 3
   },
   "file_extension": ".py",
   "mimetype": "text/x-python",
   "name": "python",
   "nbconvert_exporter": "python",
   "pygments_lexer": "ipython3",
   "version": "3.6.1"
  }
 },
 "nbformat": 4,
 "nbformat_minor": 2
}
