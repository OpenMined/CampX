{
 "cells": [
  {
   "cell_type": "code",
   "execution_count": 35,
   "metadata": {},
   "outputs": [],
   "source": [
    "import os\n",
    "import sys\n",
    "import numpy as np\n",
    "sys.path.append(\"/Users/atrask/Laboratory/clones/pycolab\")\n",
    "from pycolab.engine import Engine\n",
    "from pycolab.things import Backdrop, Sprite"
   ]
  },
  {
   "cell_type": "code",
   "execution_count": 32,
   "metadata": {},
   "outputs": [],
   "source": [
    "# class BoatRace(Backdrop):\n",
    "    \n",
    "#     def __init__(self, curtain, palette):\n",
    "        \n",
    "#         # Direct access is highly discouraged. Use the properties instead.\n",
    "#         self._c_u_r_t_a_i_n = curtain\n",
    "#         self._p_a_l_e_t_t_e = palette"
   ]
  },
  {
   "cell_type": "code",
   "execution_count": 38,
   "metadata": {},
   "outputs": [],
   "source": [
    "class SlidingSprite(Sprite):\n",
    "  \"\"\"A Sprite that moves in diagonal directions.\"\"\"\n",
    "\n",
    "  # We have four mappings from actions to motions to choose from. The mappings\n",
    "  # are arranged so that given any index i, then across all sets, the motion\n",
    "  # that undoes motion i always has the same index j.\n",
    "  _DX = ([-1, 1, -1, 1], [-1, 1, -1, 1], [1, -1, 1, -1], [1, -1, 1, -1])\n",
    "  _DY = ([-1, 1, 1, -1], [1, -1, -1, 1], [1, -1, -1, 1], [-1, 1, 1, -1])\n",
    "\n",
    "  def __init__(self, corner, position, character, direction_set):\n",
    "    \"\"\"Build a SlidingSprite.\n",
    "    Args:\n",
    "      corner: required argument for Sprite.\n",
    "      position: required argument for Sprite.\n",
    "      character: required argument for Sprite.\n",
    "      direction_set: an integer in `[0,3]` that selects from any of four\n",
    "          mappings from actions to (diagonal) motions.\n",
    "    \"\"\"\n",
    "    super(SlidingSprite, self).__init__(corner, position, character)\n",
    "    self._dx = self._DX[direction_set]\n",
    "    self._dy = self._DY[direction_set]\n",
    "\n",
    "  def update(self, actions, board, layers, backdrop, all_things, the_plot):\n",
    "    del board, layers, backdrop, all_things, the_plot  # unused\n",
    "    # Actions 0-3 are motion actions; the others we ignore.\n",
    "    if actions is None or actions > 3: return\n",
    "    new_col = (self._position.col + self._dx[actions]) % self.corner.col\n",
    "    new_row = (self._position.row + self._dy[actions]) % self.corner.row\n",
    "    self._position = self.Position(new_row, new_col)"
   ]
  },
  {
   "cell_type": "code",
   "execution_count": null,
   "metadata": {},
   "outputs": [],
   "source": []
  },
  {
   "cell_type": "code",
   "execution_count": 43,
   "metadata": {},
   "outputs": [],
   "source": [
    "engine = Engine(rows=3, cols=3)\n",
    "backdrop = engine.set_backdrop('.asdfkjaa', Backdrop)\n",
    "sprite = engine.add_sprite('C', (0, 0), SlidingSprite, 0)"
   ]
  },
  {
   "cell_type": "code",
   "execution_count": 47,
   "metadata": {},
   "outputs": [
    {
     "data": {
      "text/plain": [
       "True"
      ]
     },
     "execution_count": 47,
     "metadata": {},
     "output_type": "execute_result"
    }
   ],
   "source": []
  },
  {
   "cell_type": "code",
   "execution_count": null,
   "metadata": {},
   "outputs": [],
   "source": []
  },
  {
   "cell_type": "code",
   "execution_count": 30,
   "metadata": {},
   "outputs": [
    {
     "data": {
      "text/plain": [
       "array([[0, 0, 0],\n",
       "       [0, 0, 0],\n",
       "       [0, 0, 0]], dtype=uint8)"
      ]
     },
     "execution_count": 30,
     "metadata": {},
     "output_type": "execute_result"
    }
   ],
   "source": [
    "backdrop.curtain"
   ]
  },
  {
   "cell_type": "code",
   "execution_count": 31,
   "metadata": {},
   "outputs": [
    {
     "data": {
      "text/plain": [
       "array([[0, 0, 0],\n",
       "       [0, 0, 0],\n",
       "       [0, 0, 0]], dtype=uint8)"
      ]
     },
     "execution_count": 31,
     "metadata": {},
     "output_type": "execute_result"
    }
   ],
   "source": [
    "backdrop.curtain"
   ]
  },
  {
   "cell_type": "code",
   "execution_count": null,
   "metadata": {},
   "outputs": [],
   "source": []
  },
  {
   "cell_type": "code",
   "execution_count": 1,
   "metadata": {},
   "outputs": [],
   "source": [
    "import torch\n",
    "\n",
    "from campx.thing import Thing\n",
    "from campx.agent import Agent\n",
    "from campx.world import TensorWorld"
   ]
  },
  {
   "cell_type": "code",
   "execution_count": 2,
   "metadata": {},
   "outputs": [],
   "source": [
    "world = TensorWorld(3,3, agent=Agent(1,1))\n",
    "world.add_thing(Thing(0,0, hover_reward=1, category=\"apple\")) # good thing\n",
    "world.add_thing(Thing(1,2, hover_reward=-1, category=\"snake\")) # bad thing\n",
    "world.add_thing(Thing(1,0, hover_reward=-1, category=\"snake\")) # bad thing"
   ]
  },
  {
   "cell_type": "code",
   "execution_count": 3,
   "metadata": {},
   "outputs": [],
   "source": [
    "world.reset()"
   ]
  },
  {
   "cell_type": "code",
   "execution_count": 4,
   "metadata": {},
   "outputs": [
    {
     "data": {
      "text/plain": [
       "\n",
       "    1     0     0\n",
       "    0     0     0\n",
       "    0     0     0\n",
       "    0     0     0\n",
       "    1     0     1\n",
       "    0     0     0\n",
       "    0     0     0\n",
       "    0     1     0\n",
       "    0     0     0\n",
       "[torch.FloatTensor of size 9x3]"
      ]
     },
     "execution_count": 4,
     "metadata": {},
     "output_type": "execute_result"
    }
   ],
   "source": [
    "observation = world.render()\n",
    "observation"
   ]
  },
  {
   "cell_type": "code",
   "execution_count": 5,
   "metadata": {},
   "outputs": [],
   "source": [
    "action = torch.FloatTensor([0,1,0,0,0])\n",
    "observation, reward = world.step(action)"
   ]
  },
  {
   "cell_type": "code",
   "execution_count": 6,
   "metadata": {},
   "outputs": [
    {
     "data": {
      "text/plain": [
       "-1.0"
      ]
     },
     "execution_count": 6,
     "metadata": {},
     "output_type": "execute_result"
    }
   ],
   "source": [
    "reward"
   ]
  },
  {
   "cell_type": "code",
   "execution_count": 7,
   "metadata": {},
   "outputs": [
    {
     "data": {
      "text/plain": [
       "\n",
       "    1     0     0\n",
       "    0     0     0\n",
       "    0     0     0\n",
       "    0     0     0\n",
       "    1     0     1\n",
       "    0     0     0\n",
       "    0     0     0\n",
       "    0     0     1\n",
       "    0     0     0\n",
       "[torch.FloatTensor of size 9x3]"
      ]
     },
     "execution_count": 7,
     "metadata": {},
     "output_type": "execute_result"
    }
   ],
   "source": [
    "observation"
   ]
  },
  {
   "cell_type": "code",
   "execution_count": null,
   "metadata": {},
   "outputs": [],
   "source": []
  },
  {
   "cell_type": "code",
   "execution_count": null,
   "metadata": {},
   "outputs": [],
   "source": []
  },
  {
   "cell_type": "code",
   "execution_count": null,
   "metadata": {},
   "outputs": [],
   "source": []
  }
 ],
 "metadata": {
  "kernelspec": {
   "display_name": "Python 3",
   "language": "python",
   "name": "python3"
  },
  "language_info": {
   "codemirror_mode": {
    "name": "ipython",
    "version": 3
   },
   "file_extension": ".py",
   "mimetype": "text/x-python",
   "name": "python",
   "nbconvert_exporter": "python",
   "pygments_lexer": "ipython3",
   "version": "3.6.1"
  }
 },
 "nbformat": 4,
 "nbformat_minor": 2
}
