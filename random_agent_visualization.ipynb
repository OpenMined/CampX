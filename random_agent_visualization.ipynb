{
 "cells": [
  {
   "cell_type": "code",
   "execution_count": 8,
   "metadata": {},
   "outputs": [],
   "source": [
    "import random\n",
    "import numpy as np\n",
    "\n",
    "from EnvCatcher import EnvCatcher\n",
    "from IPython import display\n",
    "from matplotlib import pyplot as plt\n",
    "import time"
   ]
  },
  {
   "cell_type": "code",
   "execution_count": 9,
   "metadata": {},
   "outputs": [],
   "source": [
    "# set experimental parameters\n",
    "max_num_episodes = 10\n",
    "max_num_steps = 100\n",
    "# can set a random seed for consistency in agent AND environment\n",
    "random_seed = None\n",
    "if random_seed is not None:\n",
    "    np.random.seed(random_seed)\n",
    "frame = 0\n",
    "#translate the actions to human readable words\n",
    "action_space = [\"Left\",\"Stay\",\"Right\"]\n",
    "#size of the game field\n",
    "grid_size = 10"
   ]
  },
  {
   "cell_type": "code",
   "execution_count": 10,
   "metadata": {},
   "outputs": [],
   "source": [
    "def graphics(action,ep_reward,observation):\n",
    "    global frame\n",
    "    print(\"ep: {}, steps: {}, ep_reward_total: {}\".format(i_episode, t+1, ep_reward))\n",
    "    if(\"End\" not in action_space[action]):\n",
    "        plt.imshow(observation.reshape((grid_size,)*2),\n",
    "               interpolation='none', cmap='gray')\n",
    "        display.clear_output(wait=True)\n",
    "        display.display(plt.gcf())\n",
    "    frame = fps(frame)"
   ]
  },
  {
   "cell_type": "code",
   "execution_count": 11,
   "metadata": {},
   "outputs": [],
   "source": [
    "def fps(last_frame_time,FPS = 1):\n",
    "    current_milli_time = lambda: int(round(time.time() * 1000))\n",
    "    sleep_time = 1./FPS - (current_milli_time() - last_frame_time)\n",
    "    if sleep_time > 0:\n",
    "        time.sleep(sleep_time)\n",
    "    return current_milli_time()"
   ]
  },
  {
   "cell_type": "code",
   "execution_count": 12,
   "metadata": {},
   "outputs": [],
   "source": [
    "env = EnvCatcher(grid_size=10, env_type='episodic', verbose=False, \n",
    "                 max_num_steps=100, random_seed=random_seed)\n",
    "\n",
    "total_reward_by_episode = []"
   ]
  },
  {
   "cell_type": "code",
   "execution_count": 13,
   "metadata": {},
   "outputs": [
    {
     "data": {
      "image/png": "[encoded data removed]",
      "text/plain": [
       "<matplotlib.figure.Figure at 0x103dfaf60>"
      ]
     },
     "metadata": {},
     "output_type": "display_data"
    },
    {
     "name": "stdout",
     "output_type": "stream",
     "text": [
      "ep: 9, steps: 9, ep_reward_total: -1\n"
     ]
    }
   ],
   "source": [
    "for i_episode in range(max_num_episodes):\n",
    "    # for each episode reset the environment and the episode reward\n",
    "    observation = env.reset()\n",
    "    ep_reward = 0\n",
    "    # perform the episode for the max number of steps\n",
    "    for t in range(max_num_steps):\n",
    "        # random action policy\n",
    "        action = np.random.randint(env.action_space)\n",
    "        # take action in environment\n",
    "        observation, reward, done, info = env.step(action)\n",
    "        # accumulate reward\n",
    "        ep_reward += reward\n",
    "        graphics(action,ep_reward,observation)\n",
    "        # environment will provide a done flag, learning should handle it\n",
    "        if done:\n",
    "            print(\"ep: {}, steps: {}, ep_reward_total: {}\".format(i_episode, t+1, \n",
    "                  ep_reward))\n",
    "            total_reward_by_episode.append(ep_reward)\n",
    "            break"
   ]
  },
  {
   "cell_type": "code",
   "execution_count": 7,
   "metadata": {},
   "outputs": [
    {
     "name": "stdout",
     "output_type": "stream",
     "text": [
      "episode rewards [-1, 1, -1, 1, -1, 1, 1, 1, 1, 1]\n",
      "sum of episode rewards 4\n",
      "average episodic reward 0.4\n"
     ]
    }
   ],
   "source": [
    "print('episode rewards', total_reward_by_episode)\n",
    "print('sum of episode rewards', np.sum(total_reward_by_episode))\n",
    "print('average episodic reward', np.sum(total_reward_by_episode)/float(len(total_reward_by_episode)))"
   ]
  },
  {
   "cell_type": "code",
   "execution_count": null,
   "metadata": {},
   "outputs": [],
   "source": []
  }
 ],
 "metadata": {
  "kernelspec": {
   "display_name": "Python 3",
   "language": "python",
   "name": "python3"
  },
  "language_info": {
   "codemirror_mode": {
    "name": "ipython",
    "version": 3
   },
   "file_extension": ".py",
   "mimetype": "text/x-python",
   "name": "python",
   "nbconvert_exporter": "python",
   "pygments_lexer": "ipython3",
   "version": "3.6.2"
  }
 },
 "nbformat": 4,
 "nbformat_minor": 2
}
